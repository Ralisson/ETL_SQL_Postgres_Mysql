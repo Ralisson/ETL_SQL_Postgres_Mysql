{
 "cells": [
  {
   "cell_type": "markdown",
   "metadata": {},
   "source": [
    ">> # Extração de três bancos de dados diferentes\n",
    " ### MS SQL\n",
    " ### PostgreSQL\n",
    " ### MySQL"
   ]
  },
  {
   "cell_type": "markdown",
   "metadata": {},
   "source": [
    "# ETL"
   ]
  },
  {
   "cell_type": "markdown",
   "metadata": {},
   "source": [
    "#### Importando os pacotes para conexão com o Banco de Dados"
   ]
  },
  {
   "cell_type": "code",
   "execution_count": null,
   "metadata": {},
   "outputs": [],
   "source": [
    "\n",
    "import sqlalchemy as sql\n",
    "from sqlalchemy import create_engine\n",
    "import pyodbc, urllib, warnings\n",
    "warnings.filterwarnings(\"ignore\")"
   ]
  },
  {
   "cell_type": "markdown",
   "metadata": {},
   "source": [
    "## Conectando Bds"
   ]
  },
  {
   "cell_type": "markdown",
   "metadata": {},
   "source": [
    "#### Criando parâmetros de conexão para Microsoft SQL"
   ]
  },
  {
   "cell_type": "code",
   "execution_count": null,
   "metadata": {},
   "outputs": [],
   "source": [
    "\n",
    "#Parametro se for com autenticação pelo windows\n",
    "params_mssql = urllib.parse.quote_plus(\"DRIVER={SQL Server Native Client 11.0};\" #Tipo de Drive\n",
    "                                 \"SERVER=IP do Servidor;\" Endereço do Servidor #Endereço Ip do Servidor\n",
    "                                 \"DATABASE=Nome do Banco de Dados;\" #Nome do banco de dados, se não incluir eles buscara o padrão\n",
    "                                 \"Trusted_Connection=yes\") =# observar o \"yes\"\n",
    "\n",
    "engine_sql = sql.create_engine(\"mssql+pyodbc:///?odbc_connect={}\".format(params_mssql))\n",
    "engine_sql.connect\n",
    "\n",
    "#Parametro se for com autenticação pelo SQL (login e senha)\n",
    "params_mssql = urllib.parse.quote_plus(\"DRIVER={SQL Server Native Client 11.0};\" #Tipo de Drive\n",
    "                                 \"SERVER=IP do Servidor;\" #Endereço Ip do Servido\n",
    "                                 \"DATABASE=Nome do Banco de Dados;\" #Nome do banco de dados, se não incluir eles buscara o padrão\n",
    "                                 \"UID=login;\"\n",
    "                                 \"PWD=senha;\"\n",
    "                                 \"Trusted_Connection=no\")# observar o \"no\"\n",
    "\n",
    "engine_sql = sql.create_engine(\"mssql+pyodbc:///?odbc_connect={}\".format(params_mssql))\n",
    "engine_sql.connect"
   ]
  },
  {
   "cell_type": "markdown",
   "metadata": {},
   "source": [
    "#### Criando parâmetros de conexão para PostgreSQL"
   ]
  },
  {
   "cell_type": "code",
   "execution_count": null,
   "metadata": {},
   "outputs": [],
   "source": [
    "engine_postgr = create_engine('postgresql://nome_usuario:senha.IP do servidor:porta/nome do bd')"
   ]
  },
  {
   "cell_type": "markdown",
   "metadata": {},
   "source": [
    "#### Criando parâmetros de conexão para MySQL"
   ]
  },
  {
   "cell_type": "code",
   "execution_count": null,
   "metadata": {},
   "outputs": [],
   "source": [
    "import mysql.connector\n",
    "\n",
    "engine_mysql = mysql.connector.connect(host=\"IP do servidor\", user=\"usuário\", passwd=\"senha\", db=banco de dados\")"
   ]
  },
  {
   "cell_type": "markdown",
   "metadata": {},
   "source": [
    "## União das tabelas em um único dataframe"
   ]
  },
  {
   "cell_type": "markdown",
   "metadata": {},
   "source": [
    "#### Consulta SQL com Pandas\n"
   ]
  },
  {
   "cell_type": "code",
   "execution_count": null,
   "metadata": {},
   "outputs": [],
   "source": [
    "Neste caso vamos fazer uma consulta coletando dados de amostras do servidor,  o mesmo código pode ser usado para SQL, Mysql e Postgres"
   ]
  },
  {
   "cell_type": "code",
   "execution_count": null,
   "metadata": {},
   "outputs": [],
   "source": [
    "import pandas as pd \n",
    "\n",
    "query = '''\n",
    "\n",
    "SELECT top 1 percent\n",
    "\n",
    "Nome_do_Bd.dbo.Nome_Tabela1.Campo1, \n",
    "Nome_do_Bd.dbo.Nome_Tabela2.Campo2\n",
    "\n",
    "FROM Nome_do_Bd.dbo.Nome_Tabela1\n",
    "LEFT JOIN Nome_do_Bd.dbo.Nome_Tabela2\n",
    "ON Nome_do_Bd.dbo.Nome_Tabela1.Campo1 = Nome_do_Bd.dbo.Nome_Tabela2.Campo2\n",
    "\n",
    "order by newid()\n",
    "\n",
    "'''\n",
    "df_sql = pd.read_sql(query, engine_sql)\n",
    "print(\"tamanho da tabela: \", df_sql.shape)"
   ]
  }
 ],
 "metadata": {
  "kernelspec": {
   "display_name": "Python 3.8.5 64-bit ('base': conda)",
   "name": "python385jvsc74a57bd03e7ffb16807c612527859a4be59be6cdfc3f0bdfc5c07886aa766faef6ede9b2"
  },
  "language_info": {
   "codemirror_mode": {
    "name": "ipython",
    "version": 3
   },
   "file_extension": ".py",
   "mimetype": "text/x-python",
   "name": "python",
   "nbconvert_exporter": "python",
   "pygments_lexer": "ipython3",
   "version": "3.8.5"
  },
  "orig_nbformat": 2
 },
 "nbformat": 4,
 "nbformat_minor": 2
}
